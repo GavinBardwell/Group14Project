{
 "cells": [
  {
   "cell_type": "code",
   "execution_count": 11,
   "metadata": {},
   "outputs": [],
   "source": [
    "import sys\n",
    "sys.path.append(\"/scratch/group/csce435-f24/python-3.10.4/lib/python3.10/site-packages\")\n",
    "sys.path.append(\"/scratch/group/csce435-f24/thicket\")\n",
    "from glob import glob\n",
    "\n",
    "import matplotlib.pyplot as plt\n",
    "import pandas as pd\n",
    "\n",
    "import thicket as th\n",
    "\n",
    "pd.set_option(\"display.max_rows\", None)\n",
    "pd.set_option(\"display.max_columns\", None)"
   ]
  },
  {
   "cell_type": "markdown",
   "metadata": {},
   "source": [
    "Read all files"
   ]
  },
  {
   "cell_type": "code",
   "execution_count": 12,
   "metadata": {},
   "outputs": [
    {
     "name": "stderr",
     "output_type": "stream",
     "text": [
      "(1/2) Reading Files: 100%|██████████| 1/1 [00:00<00:00, 12.27it/s]\n",
      "0it [00:00, ?it/s]\n"
     ]
    }
   ],
   "source": [
    "#1_trial is a name of a folder containing the cali files, you may create a folder with a different name and replace the folder name here\n",
    "tk = th.Thicket.from_caliperreader(glob(\"*.cali\"))"
   ]
  },
  {
   "cell_type": "markdown",
   "metadata": {},
   "source": [
    "View Calltree"
   ]
  },
  {
   "cell_type": "code",
   "execution_count": 13,
   "metadata": {},
   "outputs": [
    {
     "name": "stdout",
     "output_type": "stream",
     "text": [
      "  _____ _     _      _        _   \n",
      " |_   _| |__ (_) ___| | _____| |_ \n",
      "   | | | '_ \\| |/ __| |/ / _ \\ __|\n",
      "   | | | | | | | (__|   <  __/ |_ \n",
      "   |_| |_| |_|_|\\___|_|\\_\\___|\\__|  v2024.1.0\n",
      "\n",
      "\u001b[38;5;196m96.017\u001b[0m main\u001b[0m\n",
      "├─ \u001b[38;5;22m0.000\u001b[0m MPI_Init\u001b[0m\n",
      "├─ \u001b[38;5;22m5.792\u001b[0m data_init_runtime\u001b[0m\n",
      "├─ \u001b[38;5;34m24.045\u001b[0m comm\u001b[0m\n",
      "│  ├─ \u001b[38;5;22m0.808\u001b[0m comm_large\u001b[0m\n",
      "│  │  ├─ \u001b[38;5;22m0.437\u001b[0m MPI_Scatter\u001b[0m\n",
      "│  │  └─ \u001b[38;5;22m0.371\u001b[0m MPI_Gather\u001b[0m\n",
      "│  └─ \u001b[38;5;34m23.237\u001b[0m MPI_Barrier\u001b[0m\n",
      "├─ \u001b[38;5;46m42.682\u001b[0m comp\u001b[0m\n",
      "│  └─ \u001b[38;5;46m42.682\u001b[0m comp_large\u001b[0m\n",
      "├─ \u001b[38;5;22m0.711\u001b[0m correctness_check\u001b[0m\n",
      "├─ \u001b[38;5;22m0.000\u001b[0m MPI_Finalize\u001b[0m\n",
      "├─ \u001b[38;5;22m0.000\u001b[0m MPI_Initialized\u001b[0m\n",
      "├─ \u001b[38;5;22m0.000\u001b[0m MPI_Finalized\u001b[0m\n",
      "└─ \u001b[38;5;22m0.000\u001b[0m MPI_Comm_dup\u001b[0m\n",
      "\n",
      "\u001b[4mLegend\u001b[0m (Metric: Avg time/rank Min: 0.00 Max: 96.02 indices: {'profile': 1043892932})\n",
      "\u001b[38;5;196m█ \u001b[0m86.42 - 96.02\n",
      "\u001b[38;5;208m█ \u001b[0m67.21 - 86.42\n",
      "\u001b[38;5;220m█ \u001b[0m48.01 - 67.21\n",
      "\u001b[38;5;46m█ \u001b[0m28.81 - 48.01\n",
      "\u001b[38;5;34m█ \u001b[0m9.60 - 28.81\n",
      "\u001b[38;5;22m█ \u001b[0m0.00 - 9.60\n",
      "\n",
      "name\u001b[0m User code    \u001b[38;5;160m◀ \u001b[0m Only in left graph    \u001b[38;5;28m▶ \u001b[0m Only in right graph\n",
      "\n"
     ]
    }
   ],
   "source": [
    "print(tk.tree(metric_column=\"Avg time/rank\"))"
   ]
  },
  {
   "cell_type": "markdown",
   "metadata": {},
   "source": [
    "Group Performance data by `matrix_size` in the Thicket metadata table."
   ]
  },
  {
   "cell_type": "code",
   "execution_count": 10,
   "metadata": {},
   "outputs": [
    {
     "data": {
      "text/html": [
       "<div>\n",
       "<style scoped>\n",
       "    .dataframe tbody tr th:only-of-type {\n",
       "        vertical-align: middle;\n",
       "    }\n",
       "\n",
       "    .dataframe tbody tr th {\n",
       "        vertical-align: top;\n",
       "    }\n",
       "\n",
       "    .dataframe thead th {\n",
       "        text-align: right;\n",
       "    }\n",
       "</style>\n",
       "<table border=\"1\" class=\"dataframe\">\n",
       "  <thead>\n",
       "    <tr style=\"text-align: right;\">\n",
       "      <th></th>\n",
       "      <th>algorithm</th>\n",
       "      <th>programming_model</th>\n",
       "      <th>data_type</th>\n",
       "      <th>size_of_data_type</th>\n",
       "      <th>input_size</th>\n",
       "      <th>input_type</th>\n",
       "      <th>num_procs</th>\n",
       "      <th>scalability</th>\n",
       "      <th>group_num</th>\n",
       "      <th>implementation_source</th>\n",
       "    </tr>\n",
       "    <tr>\n",
       "      <th>profile</th>\n",
       "      <th></th>\n",
       "      <th></th>\n",
       "      <th></th>\n",
       "      <th></th>\n",
       "      <th></th>\n",
       "      <th></th>\n",
       "      <th></th>\n",
       "      <th></th>\n",
       "      <th></th>\n",
       "      <th></th>\n",
       "    </tr>\n",
       "  </thead>\n",
       "  <tbody>\n",
       "    <tr>\n",
       "      <th>1043892932</th>\n",
       "      <td>merge</td>\n",
       "      <td>mpi</td>\n",
       "      <td>int</td>\n",
       "      <td>4</td>\n",
       "      <td>268435456</td>\n",
       "      <td>Random</td>\n",
       "      <td>2</td>\n",
       "      <td>strong</td>\n",
       "      <td>10</td>\n",
       "      <td>online</td>\n",
       "    </tr>\n",
       "  </tbody>\n",
       "</table>\n",
       "</div>"
      ],
      "text/plain": [
       "           algorithm programming_model data_type  size_of_data_type  \\\n",
       "profile                                                               \n",
       "1043892932     merge               mpi       int                  4   \n",
       "\n",
       "            input_size input_type  num_procs scalability  group_num  \\\n",
       "profile                                                               \n",
       "1043892932   268435456     Random          2      strong         10   \n",
       "\n",
       "           implementation_source  \n",
       "profile                           \n",
       "1043892932                online  "
      ]
     },
     "execution_count": 10,
     "metadata": {},
     "output_type": "execute_result"
    }
   ],
   "source": [
    "tk.metadata[[\"algorithm\",\"programming_model\",\"data_type\",\"size_of_data_type\",\"input_size\",\"input_type\",\"num_procs\",\"scalability\",\"group_num\",\"implementation_source\"]]"
   ]
  }
 ],
 "metadata": {
  "kernelspec": {
   "display_name": "Python 3 (ipykernel)",
   "language": "python",
   "name": "python3"
  },
  "language_info": {
   "codemirror_mode": {
    "name": "ipython",
    "version": 3
   },
   "file_extension": ".py",
   "mimetype": "text/x-python",
   "name": "python",
   "nbconvert_exporter": "python",
   "pygments_lexer": "ipython3",
   "version": "3.10.4"
  }
 },
 "nbformat": 4,
 "nbformat_minor": 4
}
