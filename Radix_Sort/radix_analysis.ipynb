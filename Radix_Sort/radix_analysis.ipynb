{
 "cells": [
  {
   "cell_type": "code",
   "execution_count": 1,
   "id": "c4342316",
   "metadata": {},
   "outputs": [
    {
     "name": "stdout",
     "output_type": "stream",
     "text": [
      "Warning: Roundtrip module could not be loaded. Requires jupyter notebook version <= 7.x.\n"
     ]
    }
   ],
   "source": [
    "import sys\n",
    "sys.path.append(\"/scratch/group/csce435-f24/python-3.10.4/lib/python3.10/site-packages\")\n",
    "sys.path.append(\"/scratch/group/csce435-f24/thicket\")\n",
    "from glob import glob\n",
    "\n",
    "import matplotlib.pyplot as plt\n",
    "import pandas as pd\n",
    "\n",
    "import thicket as th\n",
    "import os\n",
    "import re\n",
    "pd.set_option(\"display.max_rows\", None)\n",
    "pd.set_option(\"display.max_columns\", None)"
   ]
  },
  {
   "cell_type": "code",
   "execution_count": 2,
   "id": "4d466e02",
   "metadata": {},
   "outputs": [
    {
     "name": "stderr",
     "output_type": "stream",
     "text": [
      "(1/2) Reading Files: 100%|██████████| 3/3 [00:00<00:00, 16.74it/s]\n",
      "(2/2) Creating Thicket: 100%|██████████| 2/2 [00:00<00:00, 29.00it/s]\n"
     ]
    }
   ],
   "source": [
    "#1_trial is a name of a folder containing the cali files, you may create a folder with a different name and replace the folder name here\n",
    "tk = th.Thicket.from_caliperreader(glob(\"RadixCali/*.cali\"))"
   ]
  },
  {
   "cell_type": "code",
   "execution_count": 3,
   "id": "25a5fa27",
   "metadata": {},
   "outputs": [
    {
     "name": "stdout",
     "output_type": "stream",
     "text": [
      "  _____ _     _      _        _   \n",
      " |_   _| |__ (_) ___| | _____| |_ \n",
      "   | | | '_ \\| |/ __| |/ / _ \\ __|\n",
      "   | | | | | | | (__|   <  __/ |_ \n",
      "   |_| |_| |_|_|\\___|_|\\_\\___|\\__|  v2024.1.0\n",
      "\n",
      "\u001b[38;5;22m0.018\u001b[0m MPI_Comm_dup\u001b[0m\n",
      "\u001b[38;5;22m0.000\u001b[0m MPI_Finalize\u001b[0m\n",
      "\u001b[38;5;22m0.000\u001b[0m MPI_Finalized\u001b[0m\n",
      "\u001b[38;5;22m0.000\u001b[0m MPI_Initialized\u001b[0m\n",
      "\u001b[38;5;196m0.349\u001b[0m main_comp\u001b[0m\n",
      "├─ \u001b[38;5;22m0.000\u001b[0m MPI_Comm_free\u001b[0m\n",
      "├─ \u001b[38;5;22m0.002\u001b[0m MPI_Comm_split\u001b[0m\n",
      "├─ \u001b[38;5;220m0.181\u001b[0m comm\u001b[0m\n",
      "│  └─ \u001b[38;5;220m0.181\u001b[0m comm_large\u001b[0m\n",
      "│     ├─ \u001b[38;5;208m0.292\u001b[0m MPI_Recv\u001b[0m\n",
      "│     └─ \u001b[38;5;22m0.001\u001b[0m MPI_Send\u001b[0m\n",
      "├─ \u001b[38;5;46m0.159\u001b[0m comp\u001b[0m\n",
      "│  ├─ \u001b[38;5;196m0.318\u001b[0m comp_large\u001b[0m\n",
      "│  │  ├─ \u001b[38;5;22m0.001\u001b[0m MPI_Allgather\u001b[0m\n",
      "│  │  ├─ \u001b[38;5;22m0.003\u001b[0m MPI_Allgatherv\u001b[0m\n",
      "│  │  └─ \u001b[38;5;22m0.000\u001b[0m MPI_Barrier\u001b[0m\n",
      "│  └─ \u001b[38;5;22m0.000\u001b[0m comp_small\u001b[0m\n",
      "├─ \u001b[38;5;22m0.002\u001b[0m correctness_check\u001b[0m\n",
      "└─ \u001b[38;5;22m0.010\u001b[0m data_init_runtime\u001b[0m\n",
      "\n",
      "\u001b[4mLegend\u001b[0m (Metric: Avg time/rank Min: 0.00 Max: 0.35 indices: {'profile': 454824511})\n",
      "\u001b[38;5;196m█ \u001b[0m0.31 - 0.35\n",
      "\u001b[38;5;208m█ \u001b[0m0.24 - 0.31\n",
      "\u001b[38;5;220m█ \u001b[0m0.17 - 0.24\n",
      "\u001b[38;5;46m█ \u001b[0m0.10 - 0.17\n",
      "\u001b[38;5;34m█ \u001b[0m0.03 - 0.10\n",
      "\u001b[38;5;22m█ \u001b[0m0.00 - 0.03\n",
      "\n",
      "name\u001b[0m User code    \u001b[38;5;160m◀ \u001b[0m Only in left graph    \u001b[38;5;28m▶ \u001b[0m Only in right graph\n",
      "\n"
     ]
    }
   ],
   "source": [
    "print(tk.tree(metric_column=\"Avg time/rank\"))"
   ]
  },
  {
   "cell_type": "code",
   "execution_count": null,
   "id": "4f4893d3",
   "metadata": {},
   "outputs": [],
   "source": []
  }
 ],
 "metadata": {
  "kernelspec": {
   "display_name": "Python 3 (ipykernel)",
   "language": "python",
   "name": "python3"
  },
  "language_info": {
   "codemirror_mode": {
    "name": "ipython",
    "version": 3
   },
   "file_extension": ".py",
   "mimetype": "text/x-python",
   "name": "python",
   "nbconvert_exporter": "python",
   "pygments_lexer": "ipython3",
   "version": "3.10.4"
  }
 },
 "nbformat": 4,
 "nbformat_minor": 5
}
